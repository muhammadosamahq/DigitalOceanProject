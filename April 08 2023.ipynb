{
 "cells": [
  {
   "cell_type": "markdown",
   "id": "d2053a25",
   "metadata": {},
   "source": [
    "\n",
    "## Pulling data from Deribit \n",
    "\n"
   ]
  },
  {
   "cell_type": "code",
   "execution_count": 1,
   "id": "a010ab9b",
   "metadata": {},
   "outputs": [],
   "source": [
    "import requests\n",
    "import json\n",
    "import pandas as pd \n",
    "import schedule\n",
    "import time\n",
    "import pyodbc\n"
   ]
  },
  {
   "cell_type": "code",
   "execution_count": 2,
   "id": "4dbc0df1",
   "metadata": {},
   "outputs": [],
   "source": [
    "conn= pyodbc.connect('Driver={ODBC Driver 17 for SQL Server};'\n",
    "                    'Server=BADRI-180;'\n",
    "                    'Database=combine;'\n",
    "                    'Trusted_Connection=yes;')"
   ]
  },
  {
   "cell_type": "code",
   "execution_count": 3,
   "id": "7f05754c",
   "metadata": {},
   "outputs": [],
   "source": [
    "link='https://www.deribit.com/api/v2/public/get_book_summary_by_currency?currency=BTC&currency=ETH&kind=option'\n",
    "cursor=conn.cursor()\n"
   ]
  },
  {
   "cell_type": "code",
   "execution_count": 4,
   "id": "bacc72f9",
   "metadata": {
    "scrolled": true
   },
   "outputs": [
    {
     "ename": "KeyboardInterrupt",
     "evalue": "",
     "output_type": "error",
     "traceback": [
      "\u001b[1;31m---------------------------------------------------------------------------\u001b[0m",
      "\u001b[1;31mKeyboardInterrupt\u001b[0m                         Traceback (most recent call last)",
      "Input \u001b[1;32mIn [4]\u001b[0m, in \u001b[0;36m<cell line: 17>\u001b[1;34m()\u001b[0m\n\u001b[0;32m     16\u001b[0m \u001b[38;5;28;01mwhile\u001b[39;00m \u001b[38;5;28;01mTrue\u001b[39;00m:\n\u001b[0;32m     17\u001b[0m     schedule\u001b[38;5;241m.\u001b[39mrun_pending()\n\u001b[1;32m---> 18\u001b[0m     \u001b[43mtime\u001b[49m\u001b[38;5;241;43m.\u001b[39;49m\u001b[43msleep\u001b[49m\u001b[43m(\u001b[49m\u001b[38;5;241;43m1\u001b[39;49m\u001b[43m)\u001b[49m\n",
      "\u001b[1;31mKeyboardInterrupt\u001b[0m: "
     ]
    }
   ],
   "source": [
    "def write_to_excel():\n",
    "    response_API=requests.get(link)\n",
    "    data=response_API.text\n",
    "    parse_json= json.loads(data)\n",
    "    \n",
    "    currency=parse_json['result']\n",
    "    #print(\"currency = \", currency)\n",
    "    multiple_level_data=pd.json_normalize(parse_json,record_path=['result'])\n",
    "    multiple_level_data['date1']=pd.to_datetime(multiple_level_data['creation_timestamp'],unit='ms').dt.date\n",
    "    multiple_level_data['time1']=pd.to_datetime(multiple_level_data['creation_timestamp'],unit='ms').dt.time\n",
    "    #multiple_level_data['time1']+=pd.Timedelta(hours=5)\n",
    "    for index, row in multiple_level_data.iterrows():\n",
    "        cursor.execute(\"INSERT INTO Combine.dbo.Options_API ([date1],[time1], [volume],[btc_price],[open_interest],[mark_price],[instrument_name]) values(?,?,?,?,?,?,?)\", row.date1, row.time1, row.volume, row.underlying_price, row.open_interest, row.mark_price, row.instrument_name)\n",
    "             \n",
    "schedule.every(1).minutes.do(write_to_excel)\n",
    "while True:\n",
    "    schedule.run_pending()\n",
    "    time.sleep(1)\n",
    "    "
   ]
  },
  {
   "cell_type": "code",
   "execution_count": 5,
   "id": "ba4bdfaa",
   "metadata": {},
   "outputs": [],
   "source": [
    "conn.commit()\n",
    "cursor.close()"
   ]
  }
 ],
 "metadata": {
  "kernelspec": {
   "display_name": "Python 3 (ipykernel)",
   "language": "python",
   "name": "python3"
  },
  "language_info": {
   "codemirror_mode": {
    "name": "ipython",
    "version": 3
   },
   "file_extension": ".py",
   "mimetype": "text/x-python",
   "name": "python",
   "nbconvert_exporter": "python",
   "pygments_lexer": "ipython3",
   "version": "3.9.12"
  }
 },
 "nbformat": 4,
 "nbformat_minor": 5
}
